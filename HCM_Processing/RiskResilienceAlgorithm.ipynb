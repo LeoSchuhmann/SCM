{
 "cells": [
  {
   "cell_type": "code",
   "execution_count": 188,
   "id": "5a79dff5",
   "metadata": {},
   "outputs": [
    {
     "name": "stdout",
     "output_type": "stream",
     "text": [
      "03/26/2023\n"
     ]
    }
   ],
   "source": [
    "import pandas as pd\n",
    "import numpy\n",
    "from datetime import date, datetime\n",
    "\n",
    "\n",
    "today = date.today()\n",
    "# mm/dd/y\n",
    "today = today.strftime(\"%m/%d/%Y\")\n",
    "print(today)"
   ]
  },
  {
   "cell_type": "code",
   "execution_count": 189,
   "id": "5cdbfd86",
   "metadata": {},
   "outputs": [],
   "source": [
    "#example_sc = [\"Infineon\", \"Infineon 2\", \"Infineon 3\"]"
   ]
  },
  {
   "cell_type": "code",
   "execution_count": 190,
   "id": "3e726ea6",
   "metadata": {},
   "outputs": [],
   "source": [
    "db = pd.read_csv(\"MOCK_DATA1.csv\", sep=\",\")\n",
    "company = \"mock1_2022\""
   ]
  },
  {
   "cell_type": "code",
   "execution_count": 191,
   "id": "7377270e",
   "metadata": {},
   "outputs": [
    {
     "data": {
      "text/html": [
       "<div>\n",
       "<style scoped>\n",
       "    .dataframe tbody tr th:only-of-type {\n",
       "        vertical-align: middle;\n",
       "    }\n",
       "\n",
       "    .dataframe tbody tr th {\n",
       "        vertical-align: top;\n",
       "    }\n",
       "\n",
       "    .dataframe thead th {\n",
       "        text-align: right;\n",
       "    }\n",
       "</style>\n",
       "<table border=\"1\" class=\"dataframe\">\n",
       "  <thead>\n",
       "    <tr style=\"text-align: right;\">\n",
       "      <th></th>\n",
       "      <th>id</th>\n",
       "      <th>first_name</th>\n",
       "      <th>last_name</th>\n",
       "      <th>gender</th>\n",
       "      <th>Job Title</th>\n",
       "      <th>Seniority</th>\n",
       "      <th>Wage per year in euro</th>\n",
       "      <th>days sick</th>\n",
       "      <th>age</th>\n",
       "      <th>training hours</th>\n",
       "      <th>start date</th>\n",
       "      <th>upper management</th>\n",
       "    </tr>\n",
       "  </thead>\n",
       "  <tbody>\n",
       "    <tr>\n",
       "      <th>0</th>\n",
       "      <td>1</td>\n",
       "      <td>Alethea</td>\n",
       "      <td>Avraam</td>\n",
       "      <td>Female</td>\n",
       "      <td>Marketing Assistant</td>\n",
       "      <td>IV</td>\n",
       "      <td>49414</td>\n",
       "      <td>6</td>\n",
       "      <td>64</td>\n",
       "      <td>164</td>\n",
       "      <td>06/08/2009</td>\n",
       "      <td>False</td>\n",
       "    </tr>\n",
       "    <tr>\n",
       "      <th>1</th>\n",
       "      <td>2</td>\n",
       "      <td>Allin</td>\n",
       "      <td>Harkes</td>\n",
       "      <td>Male</td>\n",
       "      <td>Financial Advisor</td>\n",
       "      <td>II</td>\n",
       "      <td>189236</td>\n",
       "      <td>2</td>\n",
       "      <td>25</td>\n",
       "      <td>40</td>\n",
       "      <td>12/08/2015</td>\n",
       "      <td>False</td>\n",
       "    </tr>\n",
       "    <tr>\n",
       "      <th>2</th>\n",
       "      <td>3</td>\n",
       "      <td>Maximilian</td>\n",
       "      <td>Ruit</td>\n",
       "      <td>Male</td>\n",
       "      <td>Staff Scientist</td>\n",
       "      <td>III</td>\n",
       "      <td>203157</td>\n",
       "      <td>8</td>\n",
       "      <td>57</td>\n",
       "      <td>156</td>\n",
       "      <td>03/13/2020</td>\n",
       "      <td>False</td>\n",
       "    </tr>\n",
       "    <tr>\n",
       "      <th>3</th>\n",
       "      <td>4</td>\n",
       "      <td>Pansie</td>\n",
       "      <td>Arnaudin</td>\n",
       "      <td>Female</td>\n",
       "      <td>Structural Analysis Engineer</td>\n",
       "      <td>IV</td>\n",
       "      <td>480941</td>\n",
       "      <td>0</td>\n",
       "      <td>55</td>\n",
       "      <td>72</td>\n",
       "      <td>03/13/2002</td>\n",
       "      <td>True</td>\n",
       "    </tr>\n",
       "    <tr>\n",
       "      <th>4</th>\n",
       "      <td>5</td>\n",
       "      <td>Archer</td>\n",
       "      <td>Meneo</td>\n",
       "      <td>Male</td>\n",
       "      <td>Software Test Engineer IV</td>\n",
       "      <td>II</td>\n",
       "      <td>56311</td>\n",
       "      <td>9</td>\n",
       "      <td>27</td>\n",
       "      <td>12</td>\n",
       "      <td>09/16/2012</td>\n",
       "      <td>True</td>\n",
       "    </tr>\n",
       "    <tr>\n",
       "      <th>...</th>\n",
       "      <td>...</td>\n",
       "      <td>...</td>\n",
       "      <td>...</td>\n",
       "      <td>...</td>\n",
       "      <td>...</td>\n",
       "      <td>...</td>\n",
       "      <td>...</td>\n",
       "      <td>...</td>\n",
       "      <td>...</td>\n",
       "      <td>...</td>\n",
       "      <td>...</td>\n",
       "      <td>...</td>\n",
       "    </tr>\n",
       "    <tr>\n",
       "      <th>995</th>\n",
       "      <td>996</td>\n",
       "      <td>Faber</td>\n",
       "      <td>Kelling</td>\n",
       "      <td>Male</td>\n",
       "      <td>Software Engineer I</td>\n",
       "      <td>III</td>\n",
       "      <td>133832</td>\n",
       "      <td>2</td>\n",
       "      <td>50</td>\n",
       "      <td>139</td>\n",
       "      <td>04/09/2014</td>\n",
       "      <td>False</td>\n",
       "    </tr>\n",
       "    <tr>\n",
       "      <th>996</th>\n",
       "      <td>997</td>\n",
       "      <td>Ross</td>\n",
       "      <td>Duck</td>\n",
       "      <td>Male</td>\n",
       "      <td>Technical Writer</td>\n",
       "      <td>III</td>\n",
       "      <td>220276</td>\n",
       "      <td>11</td>\n",
       "      <td>68</td>\n",
       "      <td>15</td>\n",
       "      <td>09/19/2018</td>\n",
       "      <td>False</td>\n",
       "    </tr>\n",
       "    <tr>\n",
       "      <th>997</th>\n",
       "      <td>998</td>\n",
       "      <td>Zola</td>\n",
       "      <td>Laffan</td>\n",
       "      <td>Female</td>\n",
       "      <td>VP Accounting</td>\n",
       "      <td>II</td>\n",
       "      <td>338111</td>\n",
       "      <td>0</td>\n",
       "      <td>30</td>\n",
       "      <td>185</td>\n",
       "      <td>10/31/2020</td>\n",
       "      <td>False</td>\n",
       "    </tr>\n",
       "    <tr>\n",
       "      <th>998</th>\n",
       "      <td>999</td>\n",
       "      <td>Ryun</td>\n",
       "      <td>Morales</td>\n",
       "      <td>Male</td>\n",
       "      <td>Physical Therapy Assistant</td>\n",
       "      <td>Sr</td>\n",
       "      <td>315487</td>\n",
       "      <td>4</td>\n",
       "      <td>56</td>\n",
       "      <td>0</td>\n",
       "      <td>09/28/2004</td>\n",
       "      <td>True</td>\n",
       "    </tr>\n",
       "    <tr>\n",
       "      <th>999</th>\n",
       "      <td>1000</td>\n",
       "      <td>Cobby</td>\n",
       "      <td>Inkin</td>\n",
       "      <td>Male</td>\n",
       "      <td>Information Systems Manager</td>\n",
       "      <td>II</td>\n",
       "      <td>493947</td>\n",
       "      <td>7</td>\n",
       "      <td>37</td>\n",
       "      <td>137</td>\n",
       "      <td>11/18/1999</td>\n",
       "      <td>False</td>\n",
       "    </tr>\n",
       "  </tbody>\n",
       "</table>\n",
       "<p>1000 rows × 12 columns</p>\n",
       "</div>"
      ],
      "text/plain": [
       "       id  first_name last_name  gender                     Job Title  \\\n",
       "0       1     Alethea    Avraam  Female           Marketing Assistant   \n",
       "1       2       Allin    Harkes    Male             Financial Advisor   \n",
       "2       3  Maximilian      Ruit    Male               Staff Scientist   \n",
       "3       4      Pansie  Arnaudin  Female  Structural Analysis Engineer   \n",
       "4       5      Archer     Meneo    Male     Software Test Engineer IV   \n",
       "..    ...         ...       ...     ...                           ...   \n",
       "995   996       Faber   Kelling    Male           Software Engineer I   \n",
       "996   997        Ross      Duck    Male              Technical Writer   \n",
       "997   998        Zola    Laffan  Female                 VP Accounting   \n",
       "998   999        Ryun   Morales    Male    Physical Therapy Assistant   \n",
       "999  1000       Cobby     Inkin    Male   Information Systems Manager   \n",
       "\n",
       "    Seniority  Wage per year in euro  days sick  age  training hours  \\\n",
       "0          IV                  49414          6   64             164   \n",
       "1          II                 189236          2   25              40   \n",
       "2         III                 203157          8   57             156   \n",
       "3          IV                 480941          0   55              72   \n",
       "4          II                  56311          9   27              12   \n",
       "..        ...                    ...        ...  ...             ...   \n",
       "995       III                 133832          2   50             139   \n",
       "996       III                 220276         11   68              15   \n",
       "997        II                 338111          0   30             185   \n",
       "998        Sr                 315487          4   56               0   \n",
       "999        II                 493947          7   37             137   \n",
       "\n",
       "     start date  upper management  \n",
       "0    06/08/2009             False  \n",
       "1    12/08/2015             False  \n",
       "2    03/13/2020             False  \n",
       "3    03/13/2002              True  \n",
       "4    09/16/2012              True  \n",
       "..          ...               ...  \n",
       "995  04/09/2014             False  \n",
       "996  09/19/2018             False  \n",
       "997  10/31/2020             False  \n",
       "998  09/28/2004              True  \n",
       "999  11/18/1999             False  \n",
       "\n",
       "[1000 rows x 12 columns]"
      ]
     },
     "execution_count": 191,
     "metadata": {},
     "output_type": "execute_result"
    }
   ],
   "source": [
    "db"
   ]
  },
  {
   "cell_type": "code",
   "execution_count": 192,
   "id": "cafaef72",
   "metadata": {},
   "outputs": [],
   "source": [
    "#db_sc = db[db['Company'].isin(example_sc)]\n",
    "kpis = {}"
   ]
  },
  {
   "cell_type": "code",
   "execution_count": 193,
   "id": "78e40019",
   "metadata": {},
   "outputs": [
    {
     "data": {
      "text/plain": [
       "{'avg_wage': 271083.57,\n",
       " 'avg_sick_days': 5.642,\n",
       " 'avg_age': 46.276,\n",
       " 'avg_training_hours': 98.993,\n",
       " 'avg_headcounts_in_upper_mgmt': 0.504}"
      ]
     },
     "execution_count": 193,
     "metadata": {},
     "output_type": "execute_result"
    }
   ],
   "source": [
    "#ez_mean_kpis\n",
    "avg_wage = db[\"Wage per year in euro\"].mean()\n",
    "avg_sick_days = db[\"days sick\"].mean()\n",
    "avg_age = db[\"age\"].mean()\n",
    "avg_training_hours = db[\"training hours\"].mean()\n",
    "avg_headcounts_in_upper_mgmt = db[\"upper management\"].mean()\n",
    "\n",
    "kpis[\"avg_wage\"] = (avg_wage)\n",
    "kpis[\"avg_sick_days\"] = (avg_sick_days)\n",
    "kpis[\"avg_age\"] = (avg_age)\n",
    "kpis[\"avg_training_hours\"] = (avg_training_hours)\n",
    "kpis[\"avg_headcounts_in_upper_mgmt\"] = (avg_headcounts_in_upper_mgmt)\n",
    "\n",
    "kpis"
   ]
  },
  {
   "cell_type": "code",
   "execution_count": null,
   "id": "12810a3f",
   "metadata": {},
   "outputs": [],
   "source": []
  },
  {
   "cell_type": "code",
   "execution_count": 194,
   "id": "25908549",
   "metadata": {},
   "outputs": [],
   "source": [
    "#ez_gender_stuff\n",
    "distinct_genders = len(db[\"gender\"].unique())\n",
    "kpis[\"distinct_genders\"] = (distinct_genders)\n",
    "\n",
    "gender_count = db.groupby('gender').size()\n",
    "\n",
    "# Calculate the ratio of each gender\n",
    "gender_ratio = gender_count / len(db)\n",
    "\n",
    "# Print the results\n",
    "kpis[\"ratio_genders\"] = (gender_ratio.to_dict())"
   ]
  },
  {
   "cell_type": "code",
   "execution_count": 195,
   "id": "281b0cf8",
   "metadata": {},
   "outputs": [
    {
     "data": {
      "text/plain": [
       "{'avg_wage': 271083.57,\n",
       " 'avg_sick_days': 5.642,\n",
       " 'avg_age': 46.276,\n",
       " 'avg_training_hours': 98.993,\n",
       " 'avg_headcounts_in_upper_mgmt': 0.504,\n",
       " 'distinct_genders': 8,\n",
       " 'ratio_genders': {'Agender': 0.012,\n",
       "  'Bigender': 0.015,\n",
       "  'Female': 0.441,\n",
       "  'Genderfluid': 0.011,\n",
       "  'Genderqueer': 0.019,\n",
       "  'Male': 0.467,\n",
       "  'Non-binary': 0.014,\n",
       "  'Polygender': 0.021},\n",
       " 'avg_time_in_company': 146.292}"
      ]
     },
     "execution_count": 195,
     "metadata": {},
     "output_type": "execute_result"
    }
   ],
   "source": [
    "#time_in_company\n",
    "time_in_company = []\n",
    "\n",
    "start_dates = db[\"start date\"].tolist()\n",
    "\n",
    "def diff_month(d1, d2):\n",
    "    return (d1.year - d2.year) * 12 + d1.month - d2.month\n",
    "\n",
    "for start_date in start_dates:\n",
    "    time_in_c = diff_month(datetime(int(today[6:10]),int(today[:2]),int(today[3:5])), datetime(int(start_date[6:10]),int(start_date[:2]),int(start_date[3:5])))\n",
    "    time_in_company.append(time_in_c)\n",
    "\n",
    "db[\"time_in_company\"] = time_in_company\n",
    "db[\"time_in_company\"].mean()\n",
    "\n",
    "kpis[\"avg_time_in_company_months\"] = db[\"time_in_company\"].mean()\n",
    "kpis"
   ]
  },
  {
   "cell_type": "code",
   "execution_count": 199,
   "id": "de3d3dab",
   "metadata": {},
   "outputs": [],
   "source": [
    "#gender in upper management ATTENTION I THINK THIS JUST TAKES THE RATIO IN THE GENDER ITSELF NOT THE GENERAL FEMALES IN UPPER MGMT PER FULL\n",
    "gender_ratio = db.groupby('gender')['upper management'].mean().to_dict()\n",
    "\n",
    "# Print the results\n",
    "#print(gender_ratio)\n",
    "\n",
    "kpis[\"gender_in_upper_mangement\"] = gender_ratio"
   ]
  },
  {
   "cell_type": "code",
   "execution_count": 202,
   "id": "20c6cec1",
   "metadata": {},
   "outputs": [],
   "source": [
    "#gender iwage ATTENTION THIS JUST TAKES THE RATIO IN THE GENDER ITSELF NOT THE GENERAL FEMALES IN UPPER MGMT PER FULL\n",
    "gender_ratio_wage = db.groupby('gender')['Wage per year in euro'].mean().to_dict()\n",
    "\n",
    "# Print the results\n",
    "#print(gender_ratio)\n",
    "\n",
    "kpis[\"gender_ratio_wage\"] = gender_ratio_wage"
   ]
  },
  {
   "cell_type": "code",
   "execution_count": 203,
   "id": "5305d1cc",
   "metadata": {},
   "outputs": [
    {
     "data": {
      "text/plain": [
       "{'avg_wage': 271083.57,\n",
       " 'avg_sick_days': 5.642,\n",
       " 'avg_age': 46.276,\n",
       " 'avg_training_hours': 98.993,\n",
       " 'avg_headcounts_in_upper_mgmt': 0.504,\n",
       " 'distinct_genders': 8,\n",
       " 'ratio_genders': {'Agender': 0.012,\n",
       "  'Bigender': 0.015,\n",
       "  'Female': 0.441,\n",
       "  'Genderfluid': 0.011,\n",
       "  'Genderqueer': 0.019,\n",
       "  'Male': 0.467,\n",
       "  'Non-binary': 0.014,\n",
       "  'Polygender': 0.021},\n",
       " 'avg_time_in_company': 146.292,\n",
       " 'gender_in_upper_mangement': {'Agender': 0.3333333333333333,\n",
       "  'Bigender': 0.6,\n",
       "  'Female': 0.46485260770975056,\n",
       "  'Genderfluid': 0.6363636363636364,\n",
       "  'Genderqueer': 0.47368421052631576,\n",
       "  'Male': 0.5353319057815846,\n",
       "  'Non-binary': 0.7142857142857143,\n",
       "  'Polygender': 0.47619047619047616},\n",
       " 'gender_ratio_wage': {'Agender': 223491.66666666666,\n",
       "  'Bigender': 298597.5333333333,\n",
       "  'Female': 265381.67800453515,\n",
       "  'Genderfluid': 230274.27272727274,\n",
       "  'Genderqueer': 247740.31578947368,\n",
       "  'Male': 276867.2034261242,\n",
       "  'Non-binary': 300119.64285714284,\n",
       "  'Polygender': 292887.85714285716}}"
      ]
     },
     "execution_count": 203,
     "metadata": {},
     "output_type": "execute_result"
    }
   ],
   "source": [
    "kpis"
   ]
  },
  {
   "cell_type": "code",
   "execution_count": null,
   "id": "6f4bb3ad",
   "metadata": {},
   "outputs": [],
   "source": []
  },
  {
   "cell_type": "code",
   "execution_count": null,
   "id": "2e6ecd53",
   "metadata": {},
   "outputs": [],
   "source": []
  },
  {
   "cell_type": "code",
   "execution_count": 80,
   "id": "7a3f7d77",
   "metadata": {},
   "outputs": [
    {
     "data": {
      "text/plain": [
       "array(['Demogrpahic Change Risk', 'Demogrpahic Change Risk',\n",
       "       'Demogrpahic Change Risk'], dtype='<U23')"
      ]
     },
     "execution_count": 80,
     "metadata": {},
     "output_type": "execute_result"
    }
   ],
   "source": [
    "#demographic_change_risk \n",
    "demographic_change_risk=numpy.where(db[\"Age under 30\"]<=0.3,\"Demogrpahic Change Risk\",\"No Risk\")\n",
    "demographic_change_risk"
   ]
  },
  {
   "cell_type": "code",
   "execution_count": null,
   "id": "45510d19",
   "metadata": {},
   "outputs": [],
   "source": [
    "#diversity_risk \n",
    "diversity_risk=numpy.where(db_sc[\"Female Middle and Senior Level Management in %\"]<=0.4,\"Diversity Risk\",\"No Risk\")\n",
    "diversity_risk"
   ]
  },
  {
   "cell_type": "code",
   "execution_count": null,
   "id": "d0561398",
   "metadata": {},
   "outputs": [],
   "source": [
    "#transparency \n",
    "'diversity_risk=numpy.where(db_sc[\"Female Middle and Senior Level Management in %\"]<=0.4,\"Diversity Risk\",\"No Risk\")\n",
    "diversity_risk'"
   ]
  },
  {
   "cell_type": "code",
   "execution_count": 81,
   "id": "3050195f",
   "metadata": {},
   "outputs": [
    {
     "data": {
      "text/html": [
       "<div>\n",
       "<style scoped>\n",
       "    .dataframe tbody tr th:only-of-type {\n",
       "        vertical-align: middle;\n",
       "    }\n",
       "\n",
       "    .dataframe tbody tr th {\n",
       "        vertical-align: top;\n",
       "    }\n",
       "\n",
       "    .dataframe thead th {\n",
       "        text-align: right;\n",
       "    }\n",
       "</style>\n",
       "<table border=\"1\" class=\"dataframe\">\n",
       "  <thead>\n",
       "    <tr style=\"text-align: right;\">\n",
       "      <th></th>\n",
       "      <th>Company</th>\n",
       "      <th>diversity_risk</th>\n",
       "      <th>demographic_change_risk</th>\n",
       "    </tr>\n",
       "  </thead>\n",
       "  <tbody>\n",
       "    <tr>\n",
       "      <th>0</th>\n",
       "      <td>Infineon</td>\n",
       "      <td>Diversity Risk</td>\n",
       "      <td>Demogrpahic Change Risk</td>\n",
       "    </tr>\n",
       "    <tr>\n",
       "      <th>1</th>\n",
       "      <td>Infineon 2</td>\n",
       "      <td>Diversity Risk</td>\n",
       "      <td>Demogrpahic Change Risk</td>\n",
       "    </tr>\n",
       "    <tr>\n",
       "      <th>2</th>\n",
       "      <td>Infineon 3</td>\n",
       "      <td>Diversity Risk</td>\n",
       "      <td>Demogrpahic Change Risk</td>\n",
       "    </tr>\n",
       "  </tbody>\n",
       "</table>\n",
       "</div>"
      ],
      "text/plain": [
       "      Company  diversity_risk  demographic_change_risk\n",
       "0    Infineon  Diversity Risk  Demogrpahic Change Risk\n",
       "1  Infineon 2  Diversity Risk  Demogrpahic Change Risk\n",
       "2  Infineon 3  Diversity Risk  Demogrpahic Change Risk"
      ]
     },
     "execution_count": 81,
     "metadata": {},
     "output_type": "execute_result"
    }
   ],
   "source": [
    "risks_df = pd.DataFrame({'Company':Company, 'diversity_risk':diversity_risk, 'demographic_change_risk':demographic_change_risk})\n",
    "risks_df"
   ]
  },
  {
   "cell_type": "code",
   "execution_count": null,
   "id": "a3b876a3",
   "metadata": {},
   "outputs": [],
   "source": []
  }
 ],
 "metadata": {
  "kernelspec": {
   "display_name": "Python 3 (ipykernel)",
   "language": "python",
   "name": "python3"
  },
  "language_info": {
   "codemirror_mode": {
    "name": "ipython",
    "version": 3
   },
   "file_extension": ".py",
   "mimetype": "text/x-python",
   "name": "python",
   "nbconvert_exporter": "python",
   "pygments_lexer": "ipython3",
   "version": "3.9.13"
  }
 },
 "nbformat": 4,
 "nbformat_minor": 5
}
