{
 "cells": [
  {
   "cell_type": "code",
   "execution_count": 10,
   "id": "5a79dff5",
   "metadata": {},
   "outputs": [
    {
     "name": "stdout",
     "output_type": "stream",
     "text": [
      "03/29/2023\n"
     ]
    }
   ],
   "source": [
    "import pandas as pd\n",
    "import numpy\n",
    "from datetime import date, datetime\n",
    "\n",
    "\n",
    "today = date.today()\n",
    "# mm/dd/y\n",
    "today = today.strftime(\"%m/%d/%Y\")\n",
    "print(today)"
   ]
  },
  {
   "cell_type": "code",
   "execution_count": 11,
   "id": "5cdbfd86",
   "metadata": {},
   "outputs": [],
   "source": [
    "#example_sc = [\"Infineon\", \"Infineon 2\", \"Infineon 3\"]"
   ]
  },
  {
   "cell_type": "code",
   "execution_count": 12,
   "id": "3e726ea6",
   "metadata": {},
   "outputs": [],
   "source": [
    "db = pd.read_csv(\"../MOCK_data/SAP_Production.csv\", sep=\",\")"
   ]
  },
  {
   "cell_type": "code",
   "execution_count": 13,
   "id": "7377270e",
   "metadata": {},
   "outputs": [
    {
     "data": {
      "text/html": [
       "<div>\n",
       "<style scoped>\n",
       "    .dataframe tbody tr th:only-of-type {\n",
       "        vertical-align: middle;\n",
       "    }\n",
       "\n",
       "    .dataframe tbody tr th {\n",
       "        vertical-align: top;\n",
       "    }\n",
       "\n",
       "    .dataframe thead th {\n",
       "        text-align: right;\n",
       "    }\n",
       "</style>\n",
       "<table border=\"1\" class=\"dataframe\">\n",
       "  <thead>\n",
       "    <tr style=\"text-align: right;\">\n",
       "      <th></th>\n",
       "      <th>Production_Order</th>\n",
       "      <th>Material</th>\n",
       "      <th>Plant</th>\n",
       "      <th>Quantity</th>\n",
       "      <th>Start_Date</th>\n",
       "      <th>End_Date</th>\n",
       "    </tr>\n",
       "  </thead>\n",
       "  <tbody>\n",
       "    <tr>\n",
       "      <th>0</th>\n",
       "      <td>1</td>\n",
       "      <td>Aluminum</td>\n",
       "      <td>Asteraceae</td>\n",
       "      <td>687</td>\n",
       "      <td>7/3/2018</td>\n",
       "      <td>3/27/2022</td>\n",
       "    </tr>\n",
       "    <tr>\n",
       "      <th>1</th>\n",
       "      <td>2</td>\n",
       "      <td>Plastic</td>\n",
       "      <td>Asteraceae</td>\n",
       "      <td>841</td>\n",
       "      <td>1/23/2019</td>\n",
       "      <td>1/10/2021</td>\n",
       "    </tr>\n",
       "    <tr>\n",
       "      <th>2</th>\n",
       "      <td>3</td>\n",
       "      <td>Brass</td>\n",
       "      <td>Poaceae</td>\n",
       "      <td>989</td>\n",
       "      <td>2/2/2019</td>\n",
       "      <td>12/22/2022</td>\n",
       "    </tr>\n",
       "    <tr>\n",
       "      <th>3</th>\n",
       "      <td>4</td>\n",
       "      <td>Plastic</td>\n",
       "      <td>Fagaceae</td>\n",
       "      <td>456</td>\n",
       "      <td>2/23/2019</td>\n",
       "      <td>2/9/2022</td>\n",
       "    </tr>\n",
       "    <tr>\n",
       "      <th>4</th>\n",
       "      <td>5</td>\n",
       "      <td>Vinyl</td>\n",
       "      <td>Rosaceae</td>\n",
       "      <td>551</td>\n",
       "      <td>1/15/2019</td>\n",
       "      <td>9/16/2021</td>\n",
       "    </tr>\n",
       "    <tr>\n",
       "      <th>...</th>\n",
       "      <td>...</td>\n",
       "      <td>...</td>\n",
       "      <td>...</td>\n",
       "      <td>...</td>\n",
       "      <td>...</td>\n",
       "      <td>...</td>\n",
       "    </tr>\n",
       "    <tr>\n",
       "      <th>995</th>\n",
       "      <td>996</td>\n",
       "      <td>Granite</td>\n",
       "      <td>Myoporaceae</td>\n",
       "      <td>436</td>\n",
       "      <td>10/9/2018</td>\n",
       "      <td>1/7/2023</td>\n",
       "    </tr>\n",
       "    <tr>\n",
       "      <th>996</th>\n",
       "      <td>997</td>\n",
       "      <td>Rubber</td>\n",
       "      <td>Iridaceae</td>\n",
       "      <td>113</td>\n",
       "      <td>11/18/2018</td>\n",
       "      <td>8/14/2021</td>\n",
       "    </tr>\n",
       "    <tr>\n",
       "      <th>997</th>\n",
       "      <td>998</td>\n",
       "      <td>Stone</td>\n",
       "      <td>Lamiaceae</td>\n",
       "      <td>648</td>\n",
       "      <td>3/9/2019</td>\n",
       "      <td>4/25/2021</td>\n",
       "    </tr>\n",
       "    <tr>\n",
       "      <th>998</th>\n",
       "      <td>999</td>\n",
       "      <td>Granite</td>\n",
       "      <td>Hydrophyllaceae</td>\n",
       "      <td>369</td>\n",
       "      <td>9/17/2018</td>\n",
       "      <td>2/15/2023</td>\n",
       "    </tr>\n",
       "    <tr>\n",
       "      <th>999</th>\n",
       "      <td>1000</td>\n",
       "      <td>Stone</td>\n",
       "      <td>Grossulariaceae</td>\n",
       "      <td>975</td>\n",
       "      <td>11/21/2018</td>\n",
       "      <td>12/17/2022</td>\n",
       "    </tr>\n",
       "  </tbody>\n",
       "</table>\n",
       "<p>1000 rows × 6 columns</p>\n",
       "</div>"
      ],
      "text/plain": [
       "     Production_Order  Material            Plant  Quantity  Start_Date  \\\n",
       "0                   1  Aluminum       Asteraceae       687    7/3/2018   \n",
       "1                   2   Plastic       Asteraceae       841   1/23/2019   \n",
       "2                   3     Brass          Poaceae       989    2/2/2019   \n",
       "3                   4   Plastic         Fagaceae       456   2/23/2019   \n",
       "4                   5     Vinyl         Rosaceae       551   1/15/2019   \n",
       "..                ...       ...              ...       ...         ...   \n",
       "995               996   Granite      Myoporaceae       436   10/9/2018   \n",
       "996               997    Rubber        Iridaceae       113  11/18/2018   \n",
       "997               998     Stone        Lamiaceae       648    3/9/2019   \n",
       "998               999   Granite  Hydrophyllaceae       369   9/17/2018   \n",
       "999              1000     Stone  Grossulariaceae       975  11/21/2018   \n",
       "\n",
       "       End_Date  \n",
       "0     3/27/2022  \n",
       "1     1/10/2021  \n",
       "2    12/22/2022  \n",
       "3      2/9/2022  \n",
       "4     9/16/2021  \n",
       "..          ...  \n",
       "995    1/7/2023  \n",
       "996   8/14/2021  \n",
       "997   4/25/2021  \n",
       "998   2/15/2023  \n",
       "999  12/17/2022  \n",
       "\n",
       "[1000 rows x 6 columns]"
      ]
     },
     "execution_count": 13,
     "metadata": {},
     "output_type": "execute_result"
    }
   ],
   "source": [
    "db"
   ]
  },
  {
   "cell_type": "code",
   "execution_count": 4,
   "id": "cafaef72",
   "metadata": {},
   "outputs": [],
   "source": [
    "#db_sc = db[db['Company'].isin(example_sc)]\n",
    "kpis = {}"
   ]
  },
  {
   "cell_type": "code",
   "execution_count": 8,
   "id": "85f09c64",
   "metadata": {},
   "outputs": [
    {
     "data": {
      "text/plain": [
       "{'Plastic': 63391,\n",
       " 'Granite': 54482,\n",
       " 'Wood': 51460,\n",
       " 'Vinyl': 51063,\n",
       " 'Brass': 50221}"
      ]
     },
     "execution_count": 8,
     "metadata": {},
     "output_type": "execute_result"
    }
   ],
   "source": [
    "top_materials = db.groupby('Material')['Quantity'].sum().nlargest(5).to_dict()\n",
    "top_materials"
   ]
  },
  {
   "cell_type": "code",
   "execution_count": 9,
   "id": "78e40019",
   "metadata": {},
   "outputs": [
    {
     "data": {
      "text/plain": [
       "{'top_materials': {'Plastic': 63391,\n",
       "  'Granite': 54482,\n",
       "  'Wood': 51460,\n",
       "  'Vinyl': 51063,\n",
       "  'Brass': 50221}}"
      ]
     },
     "execution_count": 9,
     "metadata": {},
     "output_type": "execute_result"
    }
   ],
   "source": [
    "#ez_mean_kpis\n",
    "\n",
    "kpis[\"top_materials\"] = (top_materials)\n",
    "\n",
    "kpis"
   ]
  },
  {
   "cell_type": "code",
   "execution_count": null,
   "id": "12810a3f",
   "metadata": {},
   "outputs": [],
   "source": []
  },
  {
   "cell_type": "code",
   "execution_count": 7,
   "id": "25908549",
   "metadata": {},
   "outputs": [],
   "source": [
    "#ez_gender_stuff\n",
    "distinct_genders = len(db[\"gender\"].unique())\n",
    "kpis[\"distinct_genders\"] = (distinct_genders)\n",
    "\n",
    "gender_count = db.groupby('gender').size()\n",
    "\n",
    "# Calculate the ratio of each gender\n",
    "gender_ratio = gender_count / len(db)\n",
    "\n",
    "# Print the results\n",
    "kpis[\"ratio_genders\"] = (gender_ratio.to_dict())"
   ]
  },
  {
   "cell_type": "code",
   "execution_count": 8,
   "id": "281b0cf8",
   "metadata": {},
   "outputs": [
    {
     "data": {
      "text/plain": [
       "{'avg_wage': 271083.57,\n",
       " 'avg_sick_days': 5.642,\n",
       " 'avg_age': 46.276,\n",
       " 'avg_training_hours': 98.993,\n",
       " 'avg_headcounts_in_upper_mgmt': 0.504,\n",
       " 'distinct_genders': 8,\n",
       " 'ratio_genders': {'Agender': 0.012,\n",
       "  'Bigender': 0.015,\n",
       "  'Female': 0.441,\n",
       "  'Genderfluid': 0.011,\n",
       "  'Genderqueer': 0.019,\n",
       "  'Male': 0.467,\n",
       "  'Non-binary': 0.014,\n",
       "  'Polygender': 0.021},\n",
       " 'avg_time_in_company_months': 146.292}"
      ]
     },
     "execution_count": 8,
     "metadata": {},
     "output_type": "execute_result"
    }
   ],
   "source": [
    "#time_in_company\n",
    "time_in_company = []\n",
    "\n",
    "start_dates = db[\"start date\"].tolist()\n",
    "\n",
    "def diff_month(d1, d2):\n",
    "    return (d1.year - d2.year) * 12 + d1.month - d2.month\n",
    "\n",
    "for start_date in start_dates:\n",
    "    time_in_c = diff_month(datetime(int(today[6:10]),int(today[:2]),int(today[3:5])), datetime(int(start_date[6:10]),int(start_date[:2]),int(start_date[3:5])))\n",
    "    time_in_company.append(time_in_c)\n",
    "\n",
    "db[\"time_in_company\"] = time_in_company\n",
    "db[\"time_in_company\"].mean()\n",
    "\n",
    "kpis[\"avg_time_in_company_months\"] = db[\"time_in_company\"].mean()\n",
    "kpis"
   ]
  },
  {
   "cell_type": "code",
   "execution_count": 9,
   "id": "de3d3dab",
   "metadata": {},
   "outputs": [],
   "source": [
    "#gender in upper management ATTENTION I THINK THIS JUST TAKES THE RATIO IN THE GENDER ITSELF NOT THE GENERAL FEMALES IN UPPER MGMT PER FULL\n",
    "gender_ratio = db.groupby('gender')['upper management'].mean().to_dict()\n",
    "\n",
    "# Print the results\n",
    "#print(gender_ratio)\n",
    "\n",
    "kpis[\"gender_in_upper_mangement\"] = gender_ratio"
   ]
  },
  {
   "cell_type": "code",
   "execution_count": 10,
   "id": "20c6cec1",
   "metadata": {},
   "outputs": [],
   "source": [
    "#gender iwage ATTENTION THIS JUST TAKES THE RATIO IN THE GENDER ITSELF NOT THE GENERAL FEMALES IN UPPER MGMT PER FULL\n",
    "gender_ratio_wage = db.groupby('gender')['Wage per year in euro'].mean().to_dict()\n",
    "\n",
    "# Print the results\n",
    "#print(gender_ratio)\n",
    "\n",
    "kpis[\"gender_ratio_wage\"] = gender_ratio_wage"
   ]
  },
  {
   "cell_type": "code",
   "execution_count": 11,
   "id": "5305d1cc",
   "metadata": {},
   "outputs": [
    {
     "data": {
      "text/plain": [
       "{'avg_wage': 271083.57,\n",
       " 'avg_sick_days': 5.642,\n",
       " 'avg_age': 46.276,\n",
       " 'avg_training_hours': 98.993,\n",
       " 'avg_headcounts_in_upper_mgmt': 0.504,\n",
       " 'distinct_genders': 8,\n",
       " 'ratio_genders': {'Agender': 0.012,\n",
       "  'Bigender': 0.015,\n",
       "  'Female': 0.441,\n",
       "  'Genderfluid': 0.011,\n",
       "  'Genderqueer': 0.019,\n",
       "  'Male': 0.467,\n",
       "  'Non-binary': 0.014,\n",
       "  'Polygender': 0.021},\n",
       " 'avg_time_in_company_months': 146.292,\n",
       " 'gender_in_upper_mangement': {'Agender': 0.3333333333333333,\n",
       "  'Bigender': 0.6,\n",
       "  'Female': 0.46485260770975056,\n",
       "  'Genderfluid': 0.6363636363636364,\n",
       "  'Genderqueer': 0.47368421052631576,\n",
       "  'Male': 0.5353319057815846,\n",
       "  'Non-binary': 0.7142857142857143,\n",
       "  'Polygender': 0.47619047619047616},\n",
       " 'gender_ratio_wage': {'Agender': 223491.66666666666,\n",
       "  'Bigender': 298597.5333333333,\n",
       "  'Female': 265381.67800453515,\n",
       "  'Genderfluid': 230274.27272727274,\n",
       "  'Genderqueer': 247740.31578947368,\n",
       "  'Male': 276867.2034261242,\n",
       "  'Non-binary': 300119.64285714284,\n",
       "  'Polygender': 292887.85714285716}}"
      ]
     },
     "execution_count": 11,
     "metadata": {},
     "output_type": "execute_result"
    }
   ],
   "source": [
    "kpis"
   ]
  },
  {
   "cell_type": "code",
   "execution_count": null,
   "id": "6f4bb3ad",
   "metadata": {},
   "outputs": [],
   "source": []
  },
  {
   "cell_type": "code",
   "execution_count": null,
   "id": "2e6ecd53",
   "metadata": {},
   "outputs": [],
   "source": []
  },
  {
   "cell_type": "code",
   "execution_count": 80,
   "id": "7a3f7d77",
   "metadata": {},
   "outputs": [
    {
     "data": {
      "text/plain": [
       "array(['Demogrpahic Change Risk', 'Demogrpahic Change Risk',\n",
       "       'Demogrpahic Change Risk'], dtype='<U23')"
      ]
     },
     "execution_count": 80,
     "metadata": {},
     "output_type": "execute_result"
    }
   ],
   "source": [
    "#demographic_change_risk \n",
    "demographic_change_risk=numpy.where(db[\"Age under 30\"]<=0.3,\"Demogrpahic Change Risk\",\"No Risk\")\n",
    "demographic_change_risk"
   ]
  },
  {
   "cell_type": "code",
   "execution_count": null,
   "id": "45510d19",
   "metadata": {},
   "outputs": [],
   "source": [
    "#diversity_risk \n",
    "diversity_risk=numpy.where(db_sc[\"Female Middle and Senior Level Management in %\"]<=0.4,\"Diversity Risk\",\"No Risk\")\n",
    "diversity_risk"
   ]
  },
  {
   "cell_type": "code",
   "execution_count": null,
   "id": "d0561398",
   "metadata": {},
   "outputs": [],
   "source": [
    "#transparency \n",
    "'diversity_risk=numpy.where(db_sc[\"Female Middle and Senior Level Management in %\"]<=0.4,\"Diversity Risk\",\"No Risk\")\n",
    "diversity_risk'"
   ]
  },
  {
   "cell_type": "code",
   "execution_count": 81,
   "id": "3050195f",
   "metadata": {},
   "outputs": [
    {
     "data": {
      "text/html": [
       "<div>\n",
       "<style scoped>\n",
       "    .dataframe tbody tr th:only-of-type {\n",
       "        vertical-align: middle;\n",
       "    }\n",
       "\n",
       "    .dataframe tbody tr th {\n",
       "        vertical-align: top;\n",
       "    }\n",
       "\n",
       "    .dataframe thead th {\n",
       "        text-align: right;\n",
       "    }\n",
       "</style>\n",
       "<table border=\"1\" class=\"dataframe\">\n",
       "  <thead>\n",
       "    <tr style=\"text-align: right;\">\n",
       "      <th></th>\n",
       "      <th>Company</th>\n",
       "      <th>diversity_risk</th>\n",
       "      <th>demographic_change_risk</th>\n",
       "    </tr>\n",
       "  </thead>\n",
       "  <tbody>\n",
       "    <tr>\n",
       "      <th>0</th>\n",
       "      <td>Infineon</td>\n",
       "      <td>Diversity Risk</td>\n",
       "      <td>Demogrpahic Change Risk</td>\n",
       "    </tr>\n",
       "    <tr>\n",
       "      <th>1</th>\n",
       "      <td>Infineon 2</td>\n",
       "      <td>Diversity Risk</td>\n",
       "      <td>Demogrpahic Change Risk</td>\n",
       "    </tr>\n",
       "    <tr>\n",
       "      <th>2</th>\n",
       "      <td>Infineon 3</td>\n",
       "      <td>Diversity Risk</td>\n",
       "      <td>Demogrpahic Change Risk</td>\n",
       "    </tr>\n",
       "  </tbody>\n",
       "</table>\n",
       "</div>"
      ],
      "text/plain": [
       "      Company  diversity_risk  demographic_change_risk\n",
       "0    Infineon  Diversity Risk  Demogrpahic Change Risk\n",
       "1  Infineon 2  Diversity Risk  Demogrpahic Change Risk\n",
       "2  Infineon 3  Diversity Risk  Demogrpahic Change Risk"
      ]
     },
     "execution_count": 81,
     "metadata": {},
     "output_type": "execute_result"
    }
   ],
   "source": [
    "risks_df = pd.DataFrame({'Company':Company, 'diversity_risk':diversity_risk, 'demographic_change_risk':demographic_change_risk})\n",
    "risks_df"
   ]
  },
  {
   "cell_type": "code",
   "execution_count": null,
   "id": "a3b876a3",
   "metadata": {},
   "outputs": [],
   "source": []
  }
 ],
 "metadata": {
  "kernelspec": {
   "display_name": "Python 3 (ipykernel)",
   "language": "python",
   "name": "python3"
  },
  "language_info": {
   "codemirror_mode": {
    "name": "ipython",
    "version": 3
   },
   "file_extension": ".py",
   "mimetype": "text/x-python",
   "name": "python",
   "nbconvert_exporter": "python",
   "pygments_lexer": "ipython3",
   "version": "3.9.13"
  }
 },
 "nbformat": 4,
 "nbformat_minor": 5
}
